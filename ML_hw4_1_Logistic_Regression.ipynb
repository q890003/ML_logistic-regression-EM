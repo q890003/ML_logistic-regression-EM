{
  "nbformat": 4,
  "nbformat_minor": 0,
  "metadata": {
    "colab": {
      "name": "ML_hw4_1_Logistic Regression.ipynb",
      "provenance": [],
      "collapsed_sections": [],
      "authorship_tag": "ABX9TyPRAPcjw8JF+xDWkRMtHKyG",
      "include_colab_link": true
    },
    "kernelspec": {
      "name": "python3",
      "display_name": "Python 3"
    }
  },
  "cells": [
    {
      "cell_type": "markdown",
      "metadata": {
        "id": "view-in-github",
        "colab_type": "text"
      },
      "source": [
        "<a href=\"https://colab.research.google.com/github/q890003/ML_logistic-regression-EM/blob/master/ML_hw4_1_Logistic_Regression.ipynb\" target=\"_parent\"><img src=\"https://colab.research.google.com/assets/colab-badge.svg\" alt=\"Open In Colab\"/></a>"
      ]
    },
    {
      "cell_type": "code",
      "metadata": {
        "id": "ymBqKP220qkZ",
        "colab_type": "code",
        "outputId": "75ccd5c8-d8f6-4770-d2a5-61dd9a435007",
        "colab": {
          "base_uri": "https://localhost:8080/",
          "height": 352
        }
      },
      "source": [
        "import numpy as np\n",
        "import math\n",
        "import matplotlib.pyplot as plt\n",
        "#generate number points (x,y),    x ~ N(mean_x, var_x), y ~ N(mean_y, var_y)\n",
        "\n",
        "\n",
        "\n",
        "def gen_data( N1, N2, num_pts):\n",
        "    mean_x, var_x = N1[0], N1[1]\n",
        "    mean_y, var_y = N2[0], N2[1]\n",
        "    sigma_x, sigma_y = var_x**(0.5), var_y**(0.5)\n",
        "\n",
        "    points_x, points_y = [], []\n",
        "    for i in range(num_pts):\n",
        "        z_x = np.sum(np.random.uniform(0.0, 1.0, 12)) - 6\n",
        "        z_y = np.sum(np.random.uniform(0.0, 1.0, 12)) - 6\n",
        "        #formula: z = (x-m)/sigma -> x= z*sigma + mean\n",
        "        gen_value_x = z_x *sigma_x + mean_x\n",
        "        gen_value_y = z_y *sigma_y + mean_y\n",
        "        points_x.append(gen_value_x)\n",
        "        points_y.append(gen_value_y)\n",
        "    return points_x, points_y\n",
        "\n",
        "def sigmoid(X, w):\n",
        "    # print(w)\n",
        "    # print(X)\n",
        "    Xw = X.dot(w)\n",
        "    sigmoids = np.zeros((2*50,1), dtype=float)\n",
        "    for i in range(len(Xw)):\n",
        "        # if Xw[i] >= 300:\n",
        "        #     sigmoids[i] = 1\n",
        "        # if Xw[i] <= -300:\n",
        "        #     sigmoids[i] = 0\n",
        "        # else:\n",
        "            sigmoids[i] = 1/(1+np.exp(-1 * Xw[i] ))\n",
        "    # for i in range(len(Xw)):\n",
        "    #     # print(sigmoids[i],\"\\t\",Xw[i])\n",
        "    return sigmoids\n",
        "\n",
        "#init input\n",
        "N = 50\n",
        "#class 1 \n",
        "c1_parameter_x = (1,2)   #(mean, var)\n",
        "c1_parameter_y = (1,2)\n",
        "#class 2\n",
        "c2_parameter_x = (10,2)\n",
        "c2_parameter_y = (10,2)\n",
        "w = np.zeros((3,1), dtype= float)\n",
        "\"\"\"\"\"\"\n",
        "\n",
        "#generate 2 classes data.\n",
        "c1_pts_x, c1_pts_y = gen_data( c1_parameter_x, c1_parameter_y, num_pts=50)\n",
        "c2_pts_x, c2_pts_y = gen_data( c2_parameter_x, c2_parameter_y, num_pts=50)\n",
        "pts_x, pts_y = c1_pts_x+c2_pts_x, c1_pts_y+c2_pts_y\n",
        "\n",
        "#set design matrix\n",
        "X = np.zeros((2*N,3), dtype=float)\n",
        "X[:,0], X[:,1], X[:,2] =  1, pts_x, pts_y\n",
        "\n",
        "#set lebel\n",
        "Label = np.zeros((2*N, 1), dtype=float)\n",
        "Label[:N,0] = 1\n",
        "\n",
        "while True:\n",
        "    adjust = X.T.dot( Label - sigmoid(X,w))\n",
        "    w = w + adjust\n",
        "    if np.all(np.less(np.absolute(adjust),[0.0001])):\n",
        "        break\n",
        "print(w)\n",
        "\n",
        "#decision boundary\n",
        "db_x = np.linspace(-5,15, 10)\n",
        "db_y = -1 * (w[0]+ db_x* w[1] )/w[2]\n",
        "plt.figure()\n",
        "plt.scatter(c1_pts_x,c1_pts_y,linewidths=0.001,color = 'red')\n",
        "plt.scatter(c2_pts_x,c2_pts_y,linewidths=0.001,color = 'blue')\n",
        "plt.plot(db_x, db_y, color = 'red')\n",
        "\n"
      ],
      "execution_count": 12,
      "outputs": [
        {
          "output_type": "stream",
          "text": [
            "/usr/local/lib/python3.6/dist-packages/ipykernel_launcher.py:35: RuntimeWarning: overflow encountered in exp\n"
          ],
          "name": "stderr"
        },
        {
          "output_type": "stream",
          "text": [
            "[[146.44129558]\n",
            " [-19.8795125 ]\n",
            " [-14.53882889]]\n"
          ],
          "name": "stdout"
        },
        {
          "output_type": "execute_result",
          "data": {
            "text/plain": [
              "[<matplotlib.lines.Line2D at 0x7f75027941d0>]"
            ]
          },
          "metadata": {
            "tags": []
          },
          "execution_count": 12
        },
        {
          "output_type": "display_data",
          "data": {
            "image/png": "[encoded data removed]",
            "text/plain": [
              "<Figure size 432x288 with 1 Axes>"
            ]
          },
          "metadata": {
            "tags": [],
            "needs_background": "light"
          }
        }
      ]
    },
    {
      "cell_type": "code",
      "metadata": {
        "id": "_ynPnGCu7PhV",
        "colab_type": "code",
        "outputId": "943b42bc-0397-4c13-d561-762f22ef5543",
        "colab": {
          "base_uri": "https://localhost:8080/",
          "height": 283
        }
      },
      "source": [
        "w = np.zeros((3,1), dtype=float)\n",
        "D = np.zeros((2*N, 2*N), dtype=float)\n",
        "\n",
        "for i in range(20):\n",
        "    sigs = sigmoid(X, w)\n",
        "    sigs = sigs*(1-sigs) \n",
        "    for i in range(2*N):\n",
        "        D[i,i] =  sigs[i]\n",
        "    H = X.T.dot(D).dot(X)\n",
        "    delta_f = X.T.dot(Label - sigmoid(X,w))\n",
        "\n",
        "    if np.linalg.det(H) == 0:\n",
        "        adjust = delta_f\n",
        "        w = w + adjust\n",
        "    else:\n",
        "        H_inv = np.linalg.inv(H)\n",
        "        adjust = H_inv.dot(delta_f)\n",
        "        w = w + adjust\n",
        "    if np.all(np.less(np.absolute(adjust), 0.001)):\n",
        "        break\n",
        "\n",
        "#decision boundary\n",
        "db_x = np.linspace(-5,15, 10)\n",
        "db_y = -1 * (w[0]+ db_x* w[1] )/w[2]\n",
        "plt.figure()\n",
        "plt.scatter(c1_pts_x,c1_pts_y,linewidths=0.001,color = 'red')\n",
        "plt.scatter(c2_pts_x,c2_pts_y,linewidths=0.001,color = 'blue')\n",
        "plt.plot(db_x, db_y, color = 'red')"
      ],
      "execution_count": 16,
      "outputs": [
        {
          "output_type": "execute_result",
          "data": {
            "text/plain": [
              "[<matplotlib.lines.Line2D at 0x7f75026d5f98>]"
            ]
          },
          "metadata": {
            "tags": []
          },
          "execution_count": 16
        },
        {
          "output_type": "display_data",
          "data": {
            "image/png": "[encoded data removed]",
            "text/plain": [
              "<Figure size 432x288 with 1 Axes>"
            ]
          },
          "metadata": {
            "tags": [],
            "needs_background": "light"
          }
        }
      ]
    }
  ]
}